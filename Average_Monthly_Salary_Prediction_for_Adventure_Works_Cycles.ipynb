{
  "nbformat": 4,
  "nbformat_minor": 0,
  "metadata": {
    "colab": {
      "name": "Average Monthly Salary Prediction for Adventure Works Cycles.ipynb",
      "provenance": [],
      "include_colab_link": true
    },
    "kernelspec": {
      "name": "python3",
      "display_name": "Python 3"
    }
  },
  "cells": [
    {
      "cell_type": "markdown",
      "metadata": {
        "id": "view-in-github",
        "colab_type": "text"
      },
      "source": [
        "<a href=\"https://colab.research.google.com/github/DSrahulsah06/MonthlySalaryPrediction-for-Adventure-Works-Cycles/blob/master/Average_Monthly_Salary_Prediction_for_Adventure_Works_Cycles.ipynb\" target=\"_parent\"><img src=\"https://colab.research.google.com/assets/colab-badge.svg\" alt=\"Open In Colab\"/></a>"
      ]
    },
    {
      "cell_type": "code",
      "metadata": {
        "id": "7r7agMMTTZKD",
        "colab_type": "code",
        "outputId": "df2f1f56-d42d-491c-c032-1f1d1dc61aad",
        "colab": {
          "base_uri": "https://localhost:8080/",
          "height": 34
        }
      },
      "source": [
        "from google.colab import drive\n",
        "\n",
        "drive.mount('/content/gdrive')"
      ],
      "execution_count": 0,
      "outputs": [
        {
          "output_type": "stream",
          "text": [
            "Drive already mounted at /content/gdrive; to attempt to forcibly remount, call drive.mount(\"/content/gdrive\", force_remount=True).\n"
          ],
          "name": "stdout"
        }
      ]
    },
    {
      "cell_type": "markdown",
      "metadata": {
        "id": "WHoE_R6YOVPJ",
        "colab_type": "text"
      },
      "source": [
        "# Description Of Data\n",
        "In 1998, the Adventure Works Cycles company collected a large volume of data about their existing customers, including demographic features and information about purchases they have made. The company is particularly interested in analyzing customer data to determine any apparent relationships between demographic features known about the customers and the likelihood of a customer purchasing a bike. Additionally, the analysis should endeavor to determine whether a customer's average monthly spend with the company can be predicted from known customer characteristics."
      ]
    },
    {
      "cell_type": "code",
      "metadata": {
        "id": "E_0u664RTepF",
        "colab_type": "code",
        "colab": {}
      },
      "source": [
        "#importing pakages\n",
        "import numpy as np\n",
        "import pandas as pd \n",
        "import matplotlib.pyplot as plt\n",
        "import seaborn as sns\n",
        "import matplotlib.pyplot as plt"
      ],
      "execution_count": 0,
      "outputs": []
    },
    {
      "cell_type": "markdown",
      "metadata": {
        "id": "7NLX017QOeD1",
        "colab_type": "text"
      },
      "source": [
        "Using the Adventure Works Cycles customer data you worked to create a regression model that predicts a customer's average monthly spend. The model should predict average monthly spend for new customers for whom no information about average monthly spend or previous bike purchases is available."
      ]
    },
    {
      "cell_type": "code",
      "metadata": {
        "id": "HdguTiZiTnZY",
        "colab_type": "code",
        "colab": {}
      },
      "source": [
        "dataset = pd.read_csv('gdrive/My Drive/Colab Notebooks/AW_BikeBuyer.csv')\n",
        "dataset2 = pd.read_csv('gdrive/My Drive/Colab Notebooks/AW_AveMonthSpend.csv')\n",
        "dataset3 = pd.read_csv('gdrive/My Drive/Colab Notebooks/AdvWorksCusts.csv')"
      ],
      "execution_count": 0,
      "outputs": []
    },
    {
      "cell_type": "code",
      "metadata": {
        "id": "3TBhWjnjTpi9",
        "colab_type": "code",
        "colab": {}
      },
      "source": [
        "dataset3.drop_duplicates(subset =\"AddressLine1\", \n",
        "                     keep = False, inplace = True) "
      ],
      "execution_count": 0,
      "outputs": []
    },
    {
      "cell_type": "code",
      "metadata": {
        "id": "Bw7-hG43T4Vr",
        "colab_type": "code",
        "outputId": "73bee18b-7987-4728-cf87-41170fcc5efc",
        "colab": {
          "base_uri": "https://localhost:8080/",
          "height": 195
        }
      },
      "source": [
        "#joining bikebuyer dataset with average monthly test spend dataset\n",
        "df = pd.concat((dataset['CustomerID'],dataset['BikeBuyer'],dataset2['AveMonthSpend']),axis = 1)\n",
        "df.head()"
      ],
      "execution_count": 0,
      "outputs": [
        {
          "output_type": "execute_result",
          "data": {
            "text/html": [
              "<div>\n",
              "<style scoped>\n",
              "    .dataframe tbody tr th:only-of-type {\n",
              "        vertical-align: middle;\n",
              "    }\n",
              "\n",
              "    .dataframe tbody tr th {\n",
              "        vertical-align: top;\n",
              "    }\n",
              "\n",
              "    .dataframe thead th {\n",
              "        text-align: right;\n",
              "    }\n",
              "</style>\n",
              "<table border=\"1\" class=\"dataframe\">\n",
              "  <thead>\n",
              "    <tr style=\"text-align: right;\">\n",
              "      <th></th>\n",
              "      <th>CustomerID</th>\n",
              "      <th>BikeBuyer</th>\n",
              "      <th>AveMonthSpend</th>\n",
              "    </tr>\n",
              "  </thead>\n",
              "  <tbody>\n",
              "    <tr>\n",
              "      <th>0</th>\n",
              "      <td>11000</td>\n",
              "      <td>0</td>\n",
              "      <td>89</td>\n",
              "    </tr>\n",
              "    <tr>\n",
              "      <th>1</th>\n",
              "      <td>11001</td>\n",
              "      <td>1</td>\n",
              "      <td>117</td>\n",
              "    </tr>\n",
              "    <tr>\n",
              "      <th>2</th>\n",
              "      <td>11002</td>\n",
              "      <td>0</td>\n",
              "      <td>123</td>\n",
              "    </tr>\n",
              "    <tr>\n",
              "      <th>3</th>\n",
              "      <td>11003</td>\n",
              "      <td>0</td>\n",
              "      <td>50</td>\n",
              "    </tr>\n",
              "    <tr>\n",
              "      <th>4</th>\n",
              "      <td>11004</td>\n",
              "      <td>1</td>\n",
              "      <td>95</td>\n",
              "    </tr>\n",
              "  </tbody>\n",
              "</table>\n",
              "</div>"
            ],
            "text/plain": [
              "   CustomerID  BikeBuyer  AveMonthSpend\n",
              "0       11000          0             89\n",
              "1       11001          1            117\n",
              "2       11002          0            123\n",
              "3       11003          0             50\n",
              "4       11004          1             95"
            ]
          },
          "metadata": {
            "tags": []
          },
          "execution_count": 191
        }
      ]
    },
    {
      "cell_type": "code",
      "metadata": {
        "id": "ZfeyYjbUTr_n",
        "colab_type": "code",
        "outputId": "dde7c131-7282-41cd-c823-c82b1a7e7199",
        "colab": {
          "base_uri": "https://localhost:8080/",
          "height": 299
        }
      },
      "source": [
        "df1 = df.join(dataset3,how='right',lsuffix='_left', rsuffix='_right')\n",
        "df1.head()"
      ],
      "execution_count": 0,
      "outputs": [
        {
          "output_type": "execute_result",
          "data": {
            "text/html": [
              "<div>\n",
              "<style scoped>\n",
              "    .dataframe tbody tr th:only-of-type {\n",
              "        vertical-align: middle;\n",
              "    }\n",
              "\n",
              "    .dataframe tbody tr th {\n",
              "        vertical-align: top;\n",
              "    }\n",
              "\n",
              "    .dataframe thead th {\n",
              "        text-align: right;\n",
              "    }\n",
              "</style>\n",
              "<table border=\"1\" class=\"dataframe\">\n",
              "  <thead>\n",
              "    <tr style=\"text-align: right;\">\n",
              "      <th></th>\n",
              "      <th>CustomerID_left</th>\n",
              "      <th>BikeBuyer</th>\n",
              "      <th>AveMonthSpend</th>\n",
              "      <th>CustomerID_right</th>\n",
              "      <th>Title</th>\n",
              "      <th>FirstName</th>\n",
              "      <th>MiddleName</th>\n",
              "      <th>LastName</th>\n",
              "      <th>Suffix</th>\n",
              "      <th>AddressLine1</th>\n",
              "      <th>AddressLine2</th>\n",
              "      <th>City</th>\n",
              "      <th>StateProvinceName</th>\n",
              "      <th>CountryRegionName</th>\n",
              "      <th>PostalCode</th>\n",
              "      <th>PhoneNumber</th>\n",
              "      <th>BirthDate</th>\n",
              "      <th>Education</th>\n",
              "      <th>Occupation</th>\n",
              "      <th>Gender</th>\n",
              "      <th>MaritalStatus</th>\n",
              "      <th>HomeOwnerFlag</th>\n",
              "      <th>NumberCarsOwned</th>\n",
              "      <th>NumberChildrenAtHome</th>\n",
              "      <th>TotalChildren</th>\n",
              "      <th>YearlyIncome</th>\n",
              "    </tr>\n",
              "  </thead>\n",
              "  <tbody>\n",
              "    <tr>\n",
              "      <th>4</th>\n",
              "      <td>11004</td>\n",
              "      <td>1</td>\n",
              "      <td>95</td>\n",
              "      <td>11004</td>\n",
              "      <td>NaN</td>\n",
              "      <td>Elizabeth</td>\n",
              "      <td>NaN</td>\n",
              "      <td>Johnson</td>\n",
              "      <td>NaN</td>\n",
              "      <td>7553 Harness Circle</td>\n",
              "      <td>NaN</td>\n",
              "      <td>Wollongong</td>\n",
              "      <td>New South Wales</td>\n",
              "      <td>Australia</td>\n",
              "      <td>2500</td>\n",
              "      <td>1 (11) 500 555-0131</td>\n",
              "      <td>1968-08-08</td>\n",
              "      <td>Bachelors</td>\n",
              "      <td>Professional</td>\n",
              "      <td>F</td>\n",
              "      <td>S</td>\n",
              "      <td>1</td>\n",
              "      <td>4</td>\n",
              "      <td>5</td>\n",
              "      <td>5</td>\n",
              "      <td>92771</td>\n",
              "    </tr>\n",
              "    <tr>\n",
              "      <th>10</th>\n",
              "      <td>11010</td>\n",
              "      <td>0</td>\n",
              "      <td>49</td>\n",
              "      <td>11010</td>\n",
              "      <td>NaN</td>\n",
              "      <td>Jacquelyn</td>\n",
              "      <td>C</td>\n",
              "      <td>Suarez</td>\n",
              "      <td>NaN</td>\n",
              "      <td>7800 Corrinne Court</td>\n",
              "      <td>NaN</td>\n",
              "      <td>East Brisbane</td>\n",
              "      <td>Queensland</td>\n",
              "      <td>Australia</td>\n",
              "      <td>4169</td>\n",
              "      <td>1 (11) 500 555-0169</td>\n",
              "      <td>1964-02-06</td>\n",
              "      <td>Bachelors</td>\n",
              "      <td>Professional</td>\n",
              "      <td>F</td>\n",
              "      <td>S</td>\n",
              "      <td>0</td>\n",
              "      <td>1</td>\n",
              "      <td>0</td>\n",
              "      <td>0</td>\n",
              "      <td>81294</td>\n",
              "    </tr>\n",
              "    <tr>\n",
              "      <th>13</th>\n",
              "      <td>11013</td>\n",
              "      <td>0</td>\n",
              "      <td>84</td>\n",
              "      <td>11013</td>\n",
              "      <td>NaN</td>\n",
              "      <td>Ian</td>\n",
              "      <td>M</td>\n",
              "      <td>Jenkins</td>\n",
              "      <td>NaN</td>\n",
              "      <td>7902 Hudson Ave.</td>\n",
              "      <td>NaN</td>\n",
              "      <td>Lebanon</td>\n",
              "      <td>Oregon</td>\n",
              "      <td>United States</td>\n",
              "      <td>97355</td>\n",
              "      <td>817-555-0185</td>\n",
              "      <td>1968-08-06</td>\n",
              "      <td>Bachelors</td>\n",
              "      <td>Management</td>\n",
              "      <td>M</td>\n",
              "      <td>M</td>\n",
              "      <td>1</td>\n",
              "      <td>3</td>\n",
              "      <td>0</td>\n",
              "      <td>2</td>\n",
              "      <td>115859</td>\n",
              "    </tr>\n",
              "    <tr>\n",
              "      <th>14</th>\n",
              "      <td>11014</td>\n",
              "      <td>0</td>\n",
              "      <td>49</td>\n",
              "      <td>11014</td>\n",
              "      <td>NaN</td>\n",
              "      <td>Sydney</td>\n",
              "      <td>NaN</td>\n",
              "      <td>Bennett</td>\n",
              "      <td>NaN</td>\n",
              "      <td>9011 Tank Drive</td>\n",
              "      <td>NaN</td>\n",
              "      <td>Redmond</td>\n",
              "      <td>Washington</td>\n",
              "      <td>United States</td>\n",
              "      <td>98052</td>\n",
              "      <td>431-555-0156</td>\n",
              "      <td>1968-05-09</td>\n",
              "      <td>Bachelors</td>\n",
              "      <td>Management</td>\n",
              "      <td>F</td>\n",
              "      <td>S</td>\n",
              "      <td>0</td>\n",
              "      <td>3</td>\n",
              "      <td>0</td>\n",
              "      <td>3</td>\n",
              "      <td>105157</td>\n",
              "    </tr>\n",
              "    <tr>\n",
              "      <th>17</th>\n",
              "      <td>11019</td>\n",
              "      <td>1</td>\n",
              "      <td>64</td>\n",
              "      <td>11019</td>\n",
              "      <td>NaN</td>\n",
              "      <td>Luke</td>\n",
              "      <td>L</td>\n",
              "      <td>Lal</td>\n",
              "      <td>NaN</td>\n",
              "      <td>7832 Landing Dr</td>\n",
              "      <td>NaN</td>\n",
              "      <td>Langley</td>\n",
              "      <td>British Columbia</td>\n",
              "      <td>Canada</td>\n",
              "      <td>V3A 4R2</td>\n",
              "      <td>262-555-0112</td>\n",
              "      <td>1978-03-07</td>\n",
              "      <td>High School</td>\n",
              "      <td>Skilled Manual</td>\n",
              "      <td>M</td>\n",
              "      <td>S</td>\n",
              "      <td>0</td>\n",
              "      <td>2</td>\n",
              "      <td>0</td>\n",
              "      <td>0</td>\n",
              "      <td>49455</td>\n",
              "    </tr>\n",
              "  </tbody>\n",
              "</table>\n",
              "</div>"
            ],
            "text/plain": [
              "    CustomerID_left  BikeBuyer  ...  TotalChildren  YearlyIncome\n",
              "4             11004          1  ...              5         92771\n",
              "10            11010          0  ...              0         81294\n",
              "13            11013          0  ...              2        115859\n",
              "14            11014          0  ...              3        105157\n",
              "17            11019          1  ...              0         49455\n",
              "\n",
              "[5 rows x 26 columns]"
            ]
          },
          "metadata": {
            "tags": []
          },
          "execution_count": 192
        }
      ]
    },
    {
      "cell_type": "code",
      "metadata": {
        "id": "dRLX6JkbTuL1",
        "colab_type": "code",
        "outputId": "fba0fdb9-1f81-4aca-be6f-2f552382e90b",
        "colab": {
          "base_uri": "https://localhost:8080/",
          "height": 538
        }
      },
      "source": [
        "df1.info()"
      ],
      "execution_count": 0,
      "outputs": [
        {
          "output_type": "stream",
          "text": [
            "<class 'pandas.core.frame.DataFrame'>\n",
            "Int64Index: 7678 entries, 4 to 16507\n",
            "Data columns (total 26 columns):\n",
            "CustomerID_left         7678 non-null int64\n",
            "BikeBuyer               7678 non-null int64\n",
            "AveMonthSpend           7678 non-null int64\n",
            "CustomerID_right        7678 non-null int64\n",
            "Title                   42 non-null object\n",
            "FirstName               7678 non-null object\n",
            "MiddleName              4414 non-null object\n",
            "LastName                7678 non-null object\n",
            "Suffix                  1 non-null object\n",
            "AddressLine1            7678 non-null object\n",
            "AddressLine2            138 non-null object\n",
            "City                    7678 non-null object\n",
            "StateProvinceName       7678 non-null object\n",
            "CountryRegionName       7678 non-null object\n",
            "PostalCode              7678 non-null object\n",
            "PhoneNumber             7678 non-null object\n",
            "BirthDate               7678 non-null object\n",
            "Education               7678 non-null object\n",
            "Occupation              7678 non-null object\n",
            "Gender                  7678 non-null object\n",
            "MaritalStatus           7678 non-null object\n",
            "HomeOwnerFlag           7678 non-null int64\n",
            "NumberCarsOwned         7678 non-null int64\n",
            "NumberChildrenAtHome    7678 non-null int64\n",
            "TotalChildren           7678 non-null int64\n",
            "YearlyIncome            7678 non-null int64\n",
            "dtypes: int64(9), object(17)\n",
            "memory usage: 1.9+ MB\n"
          ],
          "name": "stdout"
        }
      ]
    },
    {
      "cell_type": "code",
      "metadata": {
        "id": "VX5huSaQT8EV",
        "colab_type": "code",
        "outputId": "556b31e2-879f-4ad8-b7a0-a6c31883bb80",
        "colab": {
          "base_uri": "https://localhost:8080/",
          "height": 195
        }
      },
      "source": [
        "#dropping independent variales that do not affect dependent variable\n",
        "data_new = df1.drop(['CustomerID_left','BikeBuyer','AveMonthSpend','CustomerID_right','Title','FirstName','LastName','MiddleName','Suffix','AddressLine1','AddressLine2','City','StateProvinceName','CountryRegionName','PostalCode','PhoneNumber','BirthDate','Education','Occupation'],axis=1)\n",
        "data_new.head()"
      ],
      "execution_count": 0,
      "outputs": [
        {
          "output_type": "execute_result",
          "data": {
            "text/html": [
              "<div>\n",
              "<style scoped>\n",
              "    .dataframe tbody tr th:only-of-type {\n",
              "        vertical-align: middle;\n",
              "    }\n",
              "\n",
              "    .dataframe tbody tr th {\n",
              "        vertical-align: top;\n",
              "    }\n",
              "\n",
              "    .dataframe thead th {\n",
              "        text-align: right;\n",
              "    }\n",
              "</style>\n",
              "<table border=\"1\" class=\"dataframe\">\n",
              "  <thead>\n",
              "    <tr style=\"text-align: right;\">\n",
              "      <th></th>\n",
              "      <th>Gender</th>\n",
              "      <th>MaritalStatus</th>\n",
              "      <th>HomeOwnerFlag</th>\n",
              "      <th>NumberCarsOwned</th>\n",
              "      <th>NumberChildrenAtHome</th>\n",
              "      <th>TotalChildren</th>\n",
              "      <th>YearlyIncome</th>\n",
              "    </tr>\n",
              "  </thead>\n",
              "  <tbody>\n",
              "    <tr>\n",
              "      <th>4</th>\n",
              "      <td>F</td>\n",
              "      <td>S</td>\n",
              "      <td>1</td>\n",
              "      <td>4</td>\n",
              "      <td>5</td>\n",
              "      <td>5</td>\n",
              "      <td>92771</td>\n",
              "    </tr>\n",
              "    <tr>\n",
              "      <th>10</th>\n",
              "      <td>F</td>\n",
              "      <td>S</td>\n",
              "      <td>0</td>\n",
              "      <td>1</td>\n",
              "      <td>0</td>\n",
              "      <td>0</td>\n",
              "      <td>81294</td>\n",
              "    </tr>\n",
              "    <tr>\n",
              "      <th>13</th>\n",
              "      <td>M</td>\n",
              "      <td>M</td>\n",
              "      <td>1</td>\n",
              "      <td>3</td>\n",
              "      <td>0</td>\n",
              "      <td>2</td>\n",
              "      <td>115859</td>\n",
              "    </tr>\n",
              "    <tr>\n",
              "      <th>14</th>\n",
              "      <td>F</td>\n",
              "      <td>S</td>\n",
              "      <td>0</td>\n",
              "      <td>3</td>\n",
              "      <td>0</td>\n",
              "      <td>3</td>\n",
              "      <td>105157</td>\n",
              "    </tr>\n",
              "    <tr>\n",
              "      <th>17</th>\n",
              "      <td>M</td>\n",
              "      <td>S</td>\n",
              "      <td>0</td>\n",
              "      <td>2</td>\n",
              "      <td>0</td>\n",
              "      <td>0</td>\n",
              "      <td>49455</td>\n",
              "    </tr>\n",
              "  </tbody>\n",
              "</table>\n",
              "</div>"
            ],
            "text/plain": [
              "   Gender MaritalStatus  ...  TotalChildren  YearlyIncome\n",
              "4       F             S  ...              5         92771\n",
              "10      F             S  ...              0         81294\n",
              "13      M             M  ...              2        115859\n",
              "14      F             S  ...              3        105157\n",
              "17      M             S  ...              0         49455\n",
              "\n",
              "[5 rows x 7 columns]"
            ]
          },
          "metadata": {
            "tags": []
          },
          "execution_count": 194
        }
      ]
    },
    {
      "cell_type": "code",
      "metadata": {
        "id": "MbfGAuOtUJtI",
        "colab_type": "code",
        "colab": {}
      },
      "source": [
        "#storing new data in X and Y \n",
        "X = np.array(data_new)\n",
        "Y = np.array(df1['AveMonthSpend'])"
      ],
      "execution_count": 0,
      "outputs": []
    },
    {
      "cell_type": "code",
      "metadata": {
        "id": "75L5qY9eUXrh",
        "colab_type": "code",
        "outputId": "6bfd3645-7cbb-4730-be51-0275c3d0288a",
        "colab": {
          "base_uri": "https://localhost:8080/",
          "height": 50
        }
      },
      "source": [
        "print(X[:,0])\n",
        "print(X[:,1])"
      ],
      "execution_count": 0,
      "outputs": [
        {
          "output_type": "stream",
          "text": [
            "['F' 'F' 'M' ... 'F' 'M' 'M']\n",
            "['S' 'S' 'M' ... 'S' 'S' 'M']\n"
          ],
          "name": "stdout"
        }
      ]
    },
    {
      "cell_type": "code",
      "metadata": {
        "id": "dpWsdHZ0Ufx7",
        "colab_type": "code",
        "outputId": "00087486-15ea-4f2a-c2bd-42b6b1067aa2",
        "colab": {
          "base_uri": "https://localhost:8080/",
          "height": 34
        }
      },
      "source": [
        "#label encoding on X to covert Sex and Marital status values into binary\n",
        "from sklearn.preprocessing import LabelEncoder, OneHotEncoder\n",
        "labelencoder_X = LabelEncoder()\n",
        "X[:,0] = labelencoder_X.fit_transform(X[:,0])\n",
        "X[:,0]"
      ],
      "execution_count": 0,
      "outputs": [
        {
          "output_type": "execute_result",
          "data": {
            "text/plain": [
              "array([0, 0, 1, ..., 0, 1, 1], dtype=object)"
            ]
          },
          "metadata": {
            "tags": []
          },
          "execution_count": 197
        }
      ]
    },
    {
      "cell_type": "code",
      "metadata": {
        "id": "YTaxcmBlUuS2",
        "colab_type": "code",
        "outputId": "90d7f9e8-764e-4c31-8918-58fef6334fdd",
        "colab": {
          "base_uri": "https://localhost:8080/",
          "height": 34
        }
      },
      "source": [
        "from sklearn.preprocessing import LabelEncoder, OneHotEncoder\n",
        "labelencoder_X = LabelEncoder()\n",
        "X[:,1] = labelencoder_X.fit_transform(X[:,1])\n",
        "X[:,1]"
      ],
      "execution_count": 0,
      "outputs": [
        {
          "output_type": "execute_result",
          "data": {
            "text/plain": [
              "array([1, 1, 0, ..., 1, 1, 0], dtype=object)"
            ]
          },
          "metadata": {
            "tags": []
          },
          "execution_count": 198
        }
      ]
    },
    {
      "cell_type": "code",
      "metadata": {
        "id": "YPdrAfiqUz1e",
        "colab_type": "code",
        "colab": {}
      },
      "source": [
        "#Creating training datasets\n",
        "X_train = X \n",
        "y_train = df1['AveMonthSpend']"
      ],
      "execution_count": 0,
      "outputs": []
    },
    {
      "cell_type": "code",
      "metadata": {
        "id": "SzHLJU-zU7L-",
        "colab_type": "code",
        "colab": {}
      },
      "source": [
        "from sklearn.ensemble import RandomForestClassifier\n",
        "rf = RandomForestClassifier(n_estimators=100)\n",
        "rf.fit(X_train,y_train)\n",
        "y_pred_rf=rf.predict(X_train)"
      ],
      "execution_count": 0,
      "outputs": []
    },
    {
      "cell_type": "code",
      "metadata": {
        "id": "Xdcf2285Vj_H",
        "colab_type": "code",
        "outputId": "2122ff7a-7a4a-437d-8ed8-adeb8b5cb8b1",
        "colab": {
          "base_uri": "https://localhost:8080/",
          "height": 34
        }
      },
      "source": [
        "from sklearn import metrics\n",
        "print('Accuracy',metrics.accuracy_score(y_train,y_pred_rf))"
      ],
      "execution_count": 0,
      "outputs": [
        {
          "output_type": "stream",
          "text": [
            "Accuracy 0.9996092732482418\n"
          ],
          "name": "stdout"
        }
      ]
    },
    {
      "cell_type": "code",
      "metadata": {
        "id": "hbFTIKHLV5n-",
        "colab_type": "code",
        "colab": {}
      },
      "source": [
        "#importing test data set\n",
        "test_data = pd.read_csv('gdrive/My Drive/Colab Notebooks/AW_test.csv')"
      ],
      "execution_count": 0,
      "outputs": []
    },
    {
      "cell_type": "code",
      "metadata": {
        "id": "diA90V_tV8Fh",
        "colab_type": "code",
        "colab": {}
      },
      "source": [
        "CustomerID = test_data['CustomerID']"
      ],
      "execution_count": 0,
      "outputs": []
    },
    {
      "cell_type": "code",
      "metadata": {
        "id": "fIPE8J98V-9l",
        "colab_type": "code",
        "outputId": "1c240368-3d1d-4d09-e754-6e679d02afdd",
        "colab": {
          "base_uri": "https://localhost:8080/",
          "height": 487
        }
      },
      "source": [
        "test_data.info()"
      ],
      "execution_count": 0,
      "outputs": [
        {
          "output_type": "stream",
          "text": [
            "<class 'pandas.core.frame.DataFrame'>\n",
            "RangeIndex: 500 entries, 0 to 499\n",
            "Data columns (total 23 columns):\n",
            "CustomerID              500 non-null int64\n",
            "Title                   4 non-null object\n",
            "FirstName               500 non-null object\n",
            "MiddleName              284 non-null object\n",
            "LastName                500 non-null object\n",
            "Suffix                  1 non-null object\n",
            "AddressLine1            500 non-null object\n",
            "AddressLine2            13 non-null object\n",
            "City                    500 non-null object\n",
            "StateProvinceName       500 non-null object\n",
            "CountryRegionName       500 non-null object\n",
            "PostalCode              500 non-null object\n",
            "PhoneNumber             500 non-null object\n",
            "BirthDate               500 non-null object\n",
            "Education               500 non-null object\n",
            "Occupation              500 non-null object\n",
            "Gender                  500 non-null object\n",
            "MaritalStatus           500 non-null object\n",
            "HomeOwnerFlag           500 non-null int64\n",
            "NumberCarsOwned         500 non-null int64\n",
            "NumberChildrenAtHome    500 non-null int64\n",
            "TotalChildren           500 non-null int64\n",
            "YearlyIncome            500 non-null int64\n",
            "dtypes: int64(6), object(17)\n",
            "memory usage: 89.9+ KB\n"
          ],
          "name": "stdout"
        }
      ]
    },
    {
      "cell_type": "code",
      "metadata": {
        "id": "rCdNXKsKWBOH",
        "colab_type": "code",
        "outputId": "99c1c9df-c46d-44c8-cb3a-467c76e0d239",
        "colab": {
          "base_uri": "https://localhost:8080/",
          "height": 195
        }
      },
      "source": [
        "#dropping independent variales that do not affect dependent variables\n",
        "data_new_test = test_data.drop(['CustomerID','Title','FirstName','LastName','MiddleName','Suffix','AddressLine1','AddressLine2','City','StateProvinceName','CountryRegionName','PostalCode','PhoneNumber','BirthDate','Education','Occupation'],axis=1)\n",
        "data_new_test.head()"
      ],
      "execution_count": 0,
      "outputs": [
        {
          "output_type": "execute_result",
          "data": {
            "text/html": [
              "<div>\n",
              "<style scoped>\n",
              "    .dataframe tbody tr th:only-of-type {\n",
              "        vertical-align: middle;\n",
              "    }\n",
              "\n",
              "    .dataframe tbody tr th {\n",
              "        vertical-align: top;\n",
              "    }\n",
              "\n",
              "    .dataframe thead th {\n",
              "        text-align: right;\n",
              "    }\n",
              "</style>\n",
              "<table border=\"1\" class=\"dataframe\">\n",
              "  <thead>\n",
              "    <tr style=\"text-align: right;\">\n",
              "      <th></th>\n",
              "      <th>Gender</th>\n",
              "      <th>MaritalStatus</th>\n",
              "      <th>HomeOwnerFlag</th>\n",
              "      <th>NumberCarsOwned</th>\n",
              "      <th>NumberChildrenAtHome</th>\n",
              "      <th>TotalChildren</th>\n",
              "      <th>YearlyIncome</th>\n",
              "    </tr>\n",
              "  </thead>\n",
              "  <tbody>\n",
              "    <tr>\n",
              "      <th>0</th>\n",
              "      <td>F</td>\n",
              "      <td>S</td>\n",
              "      <td>0</td>\n",
              "      <td>2</td>\n",
              "      <td>0</td>\n",
              "      <td>5</td>\n",
              "      <td>86931</td>\n",
              "    </tr>\n",
              "    <tr>\n",
              "      <th>1</th>\n",
              "      <td>M</td>\n",
              "      <td>M</td>\n",
              "      <td>1</td>\n",
              "      <td>2</td>\n",
              "      <td>2</td>\n",
              "      <td>4</td>\n",
              "      <td>100125</td>\n",
              "    </tr>\n",
              "    <tr>\n",
              "      <th>2</th>\n",
              "      <td>F</td>\n",
              "      <td>M</td>\n",
              "      <td>1</td>\n",
              "      <td>2</td>\n",
              "      <td>0</td>\n",
              "      <td>4</td>\n",
              "      <td>103985</td>\n",
              "    </tr>\n",
              "    <tr>\n",
              "      <th>3</th>\n",
              "      <td>M</td>\n",
              "      <td>M</td>\n",
              "      <td>1</td>\n",
              "      <td>0</td>\n",
              "      <td>0</td>\n",
              "      <td>4</td>\n",
              "      <td>127161</td>\n",
              "    </tr>\n",
              "    <tr>\n",
              "      <th>4</th>\n",
              "      <td>F</td>\n",
              "      <td>M</td>\n",
              "      <td>1</td>\n",
              "      <td>1</td>\n",
              "      <td>2</td>\n",
              "      <td>2</td>\n",
              "      <td>21876</td>\n",
              "    </tr>\n",
              "  </tbody>\n",
              "</table>\n",
              "</div>"
            ],
            "text/plain": [
              "  Gender MaritalStatus  ...  TotalChildren  YearlyIncome\n",
              "0      F             S  ...              5         86931\n",
              "1      M             M  ...              4        100125\n",
              "2      F             M  ...              4        103985\n",
              "3      M             M  ...              4        127161\n",
              "4      F             M  ...              2         21876\n",
              "\n",
              "[5 rows x 7 columns]"
            ]
          },
          "metadata": {
            "tags": []
          },
          "execution_count": 205
        }
      ]
    },
    {
      "cell_type": "code",
      "metadata": {
        "id": "rFo8PDSXWrKJ",
        "colab_type": "code",
        "outputId": "b667c3b6-b23c-4478-f7f2-96cc24bead4b",
        "colab": {
          "base_uri": "https://localhost:8080/",
          "height": 101
        }
      },
      "source": [
        "#storing dataset in Xnew\n",
        "Xnew = np.array(data_new_test)\n",
        "Xnew[0:5]"
      ],
      "execution_count": 0,
      "outputs": [
        {
          "output_type": "execute_result",
          "data": {
            "text/plain": [
              "array([['F', 'S', 0, 2, 0, 5, 86931],\n",
              "       ['M', 'M', 1, 2, 2, 4, 100125],\n",
              "       ['F', 'M', 1, 2, 0, 4, 103985],\n",
              "       ['M', 'M', 1, 0, 0, 4, 127161],\n",
              "       ['F', 'M', 1, 1, 2, 2, 21876]], dtype=object)"
            ]
          },
          "metadata": {
            "tags": []
          },
          "execution_count": 206
        }
      ]
    },
    {
      "cell_type": "code",
      "metadata": {
        "id": "5BSzYZSFWwNP",
        "colab_type": "code",
        "outputId": "c83052bd-3e94-47ec-e515-ce8e960d3a77",
        "colab": {
          "base_uri": "https://localhost:8080/",
          "height": 403
        }
      },
      "source": [
        "#label encoding on Sex and Marital Status\n",
        "from sklearn.preprocessing import LabelEncoder, OneHotEncoder\n",
        "labelencoder_X = LabelEncoder()\n",
        "Xnew[:,0] = labelencoder_X.fit_transform(Xnew[:,0])\n",
        "Xnew[:,0]"
      ],
      "execution_count": 0,
      "outputs": [
        {
          "output_type": "execute_result",
          "data": {
            "text/plain": [
              "array([0, 1, 0, 1, 0, 0, 1, 1, 1, 0, 0, 0, 1, 0, 0, 0, 1, 1, 0, 0, 1, 1,\n",
              "       1, 1, 0, 1, 1, 1, 1, 0, 0, 1, 0, 1, 0, 1, 1, 1, 0, 1, 0, 1, 1, 0,\n",
              "       0, 1, 0, 0, 1, 1, 1, 0, 0, 1, 0, 1, 0, 1, 1, 1, 0, 1, 1, 0, 0, 0,\n",
              "       1, 1, 1, 0, 0, 1, 1, 0, 1, 0, 1, 0, 0, 0, 0, 1, 0, 1, 1, 0, 1, 1,\n",
              "       1, 0, 0, 0, 0, 0, 0, 1, 1, 0, 0, 0, 0, 1, 0, 1, 1, 1, 0, 0, 0, 0,\n",
              "       0, 0, 0, 1, 1, 1, 0, 0, 0, 1, 1, 0, 1, 0, 1, 0, 1, 1, 1, 1, 0, 1,\n",
              "       1, 0, 0, 0, 1, 1, 1, 1, 1, 0, 1, 0, 0, 0, 0, 0, 1, 1, 0, 1, 1, 1,\n",
              "       1, 0, 1, 1, 1, 0, 0, 1, 0, 1, 0, 0, 0, 1, 1, 0, 1, 0, 1, 1, 0, 0,\n",
              "       0, 1, 0, 1, 0, 0, 0, 1, 0, 0, 0, 1, 0, 0, 1, 1, 1, 1, 0, 0, 0, 1,\n",
              "       0, 0, 0, 1, 0, 1, 1, 1, 0, 1, 1, 0, 1, 1, 1, 0, 0, 1, 0, 0, 1, 1,\n",
              "       0, 1, 0, 0, 1, 0, 0, 0, 1, 1, 1, 0, 1, 1, 1, 1, 1, 1, 0, 1, 1, 0,\n",
              "       0, 1, 0, 0, 1, 1, 0, 1, 0, 0, 0, 0, 1, 0, 0, 1, 1, 1, 0, 1, 0, 1,\n",
              "       0, 0, 0, 1, 1, 0, 0, 0, 1, 1, 1, 0, 1, 0, 1, 1, 1, 0, 1, 1, 0, 0,\n",
              "       1, 0, 0, 1, 1, 0, 1, 1, 1, 1, 1, 0, 1, 0, 0, 0, 1, 1, 1, 0, 0, 1,\n",
              "       1, 0, 0, 0, 1, 0, 1, 0, 0, 0, 1, 1, 1, 1, 0, 0, 1, 1, 0, 1, 0, 0,\n",
              "       1, 1, 1, 0, 0, 0, 1, 0, 1, 0, 1, 1, 1, 1, 1, 1, 1, 1, 0, 0, 0, 1,\n",
              "       0, 0, 0, 1, 0, 0, 1, 0, 0, 1, 1, 0, 1, 0, 0, 0, 0, 0, 1, 0, 1, 1,\n",
              "       0, 0, 1, 0, 0, 1, 1, 0, 0, 1, 0, 1, 1, 0, 1, 1, 1, 0, 1, 1, 0, 1,\n",
              "       1, 0, 1, 1, 0, 1, 1, 1, 0, 1, 1, 0, 1, 0, 1, 1, 1, 0, 1, 1, 1, 1,\n",
              "       1, 1, 1, 0, 0, 1, 0, 0, 0, 1, 1, 1, 0, 1, 1, 1, 1, 1, 0, 0, 1, 0,\n",
              "       0, 0, 1, 1, 0, 1, 0, 1, 1, 0, 1, 1, 1, 0, 1, 0, 1, 1, 0, 1, 1, 0,\n",
              "       1, 0, 0, 0, 0, 1, 0, 0, 0, 1, 1, 0, 1, 1, 1, 1, 1, 1, 1, 1, 0, 1,\n",
              "       1, 0, 1, 0, 1, 0, 0, 0, 1, 0, 0, 0, 0, 0, 0, 0], dtype=object)"
            ]
          },
          "metadata": {
            "tags": []
          },
          "execution_count": 207
        }
      ]
    },
    {
      "cell_type": "code",
      "metadata": {
        "id": "mC-M1tsIWzNB",
        "colab_type": "code",
        "outputId": "0ebd3333-059d-4aa7-cd9e-545121b159dc",
        "colab": {
          "base_uri": "https://localhost:8080/",
          "height": 403
        }
      },
      "source": [
        "from sklearn.preprocessing import LabelEncoder, OneHotEncoder\n",
        "labelencoder_X = LabelEncoder()\n",
        "Xnew[:,1] = labelencoder_X.fit_transform(Xnew[:,1])\n",
        "Xnew[:,1]"
      ],
      "execution_count": 0,
      "outputs": [
        {
          "output_type": "execute_result",
          "data": {
            "text/plain": [
              "array([1, 0, 0, 0, 0, 0, 1, 0, 1, 0, 1, 0, 0, 0, 1, 0, 0, 1, 1, 1, 0, 0,\n",
              "       0, 0, 0, 1, 0, 1, 1, 0, 1, 1, 0, 1, 0, 1, 0, 0, 0, 0, 1, 1, 0, 0,\n",
              "       0, 0, 0, 1, 0, 0, 0, 0, 0, 0, 0, 0, 0, 1, 0, 1, 0, 0, 0, 1, 1, 1,\n",
              "       1, 0, 1, 0, 0, 0, 0, 0, 1, 1, 1, 1, 0, 0, 0, 1, 0, 1, 0, 0, 0, 1,\n",
              "       1, 0, 0, 0, 1, 1, 0, 0, 1, 0, 0, 0, 0, 1, 0, 1, 0, 0, 1, 1, 1, 0,\n",
              "       0, 1, 0, 1, 0, 1, 1, 1, 1, 1, 0, 0, 1, 0, 1, 0, 1, 0, 1, 0, 1, 0,\n",
              "       0, 1, 0, 0, 0, 0, 1, 0, 0, 0, 0, 1, 1, 0, 0, 0, 0, 1, 0, 0, 1, 0,\n",
              "       0, 1, 1, 0, 1, 0, 0, 1, 1, 0, 0, 0, 0, 1, 0, 1, 0, 1, 0, 0, 1, 1,\n",
              "       0, 0, 0, 0, 0, 1, 0, 0, 1, 1, 1, 0, 0, 1, 0, 0, 0, 0, 0, 0, 1, 0,\n",
              "       0, 1, 0, 0, 1, 1, 0, 0, 0, 1, 1, 1, 0, 1, 1, 1, 1, 1, 0, 0, 1, 1,\n",
              "       1, 1, 0, 1, 1, 0, 0, 1, 1, 0, 1, 0, 0, 0, 0, 0, 1, 0, 1, 0, 1, 0,\n",
              "       1, 1, 1, 0, 0, 1, 1, 1, 0, 0, 1, 0, 0, 0, 0, 1, 1, 0, 0, 1, 0, 1,\n",
              "       1, 1, 1, 1, 1, 0, 1, 1, 0, 1, 0, 0, 0, 1, 1, 0, 0, 0, 0, 1, 1, 1,\n",
              "       1, 0, 1, 1, 0, 0, 0, 0, 0, 1, 0, 0, 1, 0, 1, 0, 1, 0, 0, 1, 1, 0,\n",
              "       0, 1, 1, 0, 0, 0, 0, 0, 1, 0, 0, 0, 0, 0, 0, 1, 0, 1, 1, 1, 0, 1,\n",
              "       1, 0, 1, 0, 1, 0, 1, 1, 0, 1, 0, 0, 1, 1, 0, 0, 1, 1, 0, 0, 0, 1,\n",
              "       1, 1, 0, 1, 1, 1, 1, 0, 1, 1, 0, 0, 1, 0, 1, 0, 0, 0, 1, 0, 0, 1,\n",
              "       0, 1, 1, 0, 1, 1, 1, 1, 1, 0, 1, 1, 0, 1, 0, 1, 0, 0, 0, 0, 1, 0,\n",
              "       1, 0, 0, 0, 0, 0, 0, 1, 1, 0, 0, 0, 0, 0, 0, 1, 1, 0, 1, 0, 1, 0,\n",
              "       0, 1, 0, 1, 0, 0, 0, 0, 0, 1, 1, 1, 1, 0, 0, 0, 1, 0, 1, 1, 0, 0,\n",
              "       0, 1, 0, 0, 0, 1, 0, 0, 1, 1, 1, 1, 0, 0, 0, 0, 1, 1, 0, 0, 0, 1,\n",
              "       1, 0, 1, 1, 0, 1, 1, 0, 1, 0, 1, 0, 1, 1, 1, 0, 1, 0, 0, 0, 0, 1,\n",
              "       0, 1, 0, 0, 0, 0, 1, 1, 0, 0, 0, 1, 1, 1, 0, 1], dtype=object)"
            ]
          },
          "metadata": {
            "tags": []
          },
          "execution_count": 208
        }
      ]
    },
    {
      "cell_type": "code",
      "metadata": {
        "id": "6lf0M0epW1gp",
        "colab_type": "code",
        "outputId": "b467723e-996e-4ee2-e033-7f65cb1eaf2f",
        "colab": {
          "base_uri": "https://localhost:8080/",
          "height": 672
        }
      },
      "source": [
        "# predicting values for Xnew\n",
        "y_pred = rf.predict(Xnew)\n",
        "y_pred"
      ],
      "execution_count": 0,
      "outputs": [
        {
          "output_type": "execute_result",
          "data": {
            "text/plain": [
              "array([ 54, 110,  47,  88,  59,  47,  90, 140,  93,  56,  57,  47,  71,\n",
              "        42,  42,  50,  88,  72,  95,  59,  66,  70, 161,  86,  54,  72,\n",
              "        87, 123,  75,  58,  65,  84,  43,  71,  98, 107, 170,  94,  58,\n",
              "        84,  55,  83,  72,  59,  56,  74,  53,  81, 121,  82,  83,  84,\n",
              "        83,  67,  47,  75,  60,  76,  60,  69,  44,  63,  91,  79,  51,\n",
              "        76,  77, 148,  63,  99,  82,  78,  94,  47,  66,  73, 126,  67,\n",
              "        54,  43,  76,  71,  55,  79,  86,  49,  87, 125,  99,  60,  53,\n",
              "        92,  50,  54,  43, 149,  53,  52,  42,  56, 100,  72,  51, 124,\n",
              "        86, 107,  35,  49,  52,  58,  92,  48,  76,  64,  74,  89,  45,\n",
              "        48,  52,  85, 135,  83,  71,  45,  76,  63,  59,  87,  84, 141,\n",
              "        42,  83, 133,  48,  48, 101, 165,  81,  86,  75,  85,  43, 105,\n",
              "        37,  69,  55,  59,  42,  59,  67,  91,  68,  70,  72, 103,  47,\n",
              "        80,  74,  74,  89,  45,  70,  57, 102,  93,  64,  79, 103,  89,\n",
              "        42,  82,  67,  71,  74,  44,  38, 104,  71,  49, 141,  45,  37,\n",
              "        97,  71,  48,  44,  59,  60,  49,  52,  79,  75,  81,  79,  89,\n",
              "        70,  47,  82,  53,  83,  63,  71,  42,  78, 144,  81, 106,  97,\n",
              "        70,  64,  76,  61, 125,  48,  49,  74,  43,  54,  80,  77,  48,\n",
              "        72,  92,  60,  58,  48,  59,  86,  79,  90,  93,  53,  69,  71,\n",
              "       122,  63,  89,  97,  47,  68,  85,  72,  39,  59,  65,  53,  75,\n",
              "        71,  79,  84,  96,  56,  48,  42, 152,  88,  55,  75, 132,  79,\n",
              "        46,  66,  79,  72,  74,  65,  45,  76,  95,  60,  94,  48,  89,\n",
              "        70, 111,  37, 140,  56, 145,  76,  96,  56,  69,  58,  52,  35,\n",
              "        79,  44,  52,  70,  74,  47,  86, 163,  76, 114, 156,  48,  70,\n",
              "        37,  49,  61, 130, 104,  76,  38,  86, 165, 139,  72,  40,  93,\n",
              "       161,  61,  77,  48,  42,  68, 156,  74,  72,  65,  54,  48, 147,\n",
              "        62,  46,  82,  56,  51,  77,  83, 116,  60,  62, 110,  82,  43,\n",
              "       122,  55,  94,  74,  79,  74,  71,  62,  76,  56, 100,  76,  69,\n",
              "        78,  47,  56,  51,  76,  78,  53,  60,  53,  95,  74,  76,  79,\n",
              "        71,  56,  47,  51,  42,  60, 146,  46,  87,  67,  76,  45,  72,\n",
              "        47,  46, 151, 101,  79,  36,  75,  49,  78, 125,  50,  88,  74,\n",
              "        84,  54, 119,  67,  45,  73,  77,  43,  59,  73,  44, 154, 121,\n",
              "        93,  57,  83, 115,  43,  82,  46, 115,  59,  70,  57,  85,  73,\n",
              "        84, 165, 103,  67,  84,  39,  59,  71,  55,  48,  53,  54,  57,\n",
              "        57,  46, 104,  89, 125, 114,  76,  70,  75,  70,  88,  53,  94,\n",
              "        91, 122,  38,  76,  51, 105,  63,  48,  36, 123,  85,  50,  76,\n",
              "        54,  77,  68,  57,  93,  75,  46, 105,  41,  89,  78,  53,  88,\n",
              "        53,  61,  52,  84,  92,  54,  59,  65,  69, 156, 140, 142, 134,\n",
              "        77, 105,  72,  75,  29, 170,  55,  96,  88,  64,  94, 142,  75,\n",
              "        54,  48,  88,  82,  55,  26])"
            ]
          },
          "metadata": {
            "tags": []
          },
          "execution_count": 209
        }
      ]
    },
    {
      "cell_type": "code",
      "metadata": {
        "id": "JRxupGZVW4hg",
        "colab_type": "code",
        "outputId": "a38a1078-9d6d-4639-bc06-78269868c087",
        "colab": {
          "base_uri": "https://localhost:8080/",
          "height": 195
        }
      },
      "source": [
        "final_data = pd.DataFrame({'CustomerID':CustomerID, 'AvgMonthlySpend':y_pred})\n",
        "final_data.head()"
      ],
      "execution_count": 0,
      "outputs": [
        {
          "output_type": "execute_result",
          "data": {
            "text/html": [
              "<div>\n",
              "<style scoped>\n",
              "    .dataframe tbody tr th:only-of-type {\n",
              "        vertical-align: middle;\n",
              "    }\n",
              "\n",
              "    .dataframe tbody tr th {\n",
              "        vertical-align: top;\n",
              "    }\n",
              "\n",
              "    .dataframe thead th {\n",
              "        text-align: right;\n",
              "    }\n",
              "</style>\n",
              "<table border=\"1\" class=\"dataframe\">\n",
              "  <thead>\n",
              "    <tr style=\"text-align: right;\">\n",
              "      <th></th>\n",
              "      <th>CustomerID</th>\n",
              "      <th>AvgMonthlySpend</th>\n",
              "    </tr>\n",
              "  </thead>\n",
              "  <tbody>\n",
              "    <tr>\n",
              "      <th>0</th>\n",
              "      <td>18988</td>\n",
              "      <td>54</td>\n",
              "    </tr>\n",
              "    <tr>\n",
              "      <th>1</th>\n",
              "      <td>29135</td>\n",
              "      <td>110</td>\n",
              "    </tr>\n",
              "    <tr>\n",
              "      <th>2</th>\n",
              "      <td>12156</td>\n",
              "      <td>47</td>\n",
              "    </tr>\n",
              "    <tr>\n",
              "      <th>3</th>\n",
              "      <td>13749</td>\n",
              "      <td>88</td>\n",
              "    </tr>\n",
              "    <tr>\n",
              "      <th>4</th>\n",
              "      <td>27780</td>\n",
              "      <td>59</td>\n",
              "    </tr>\n",
              "  </tbody>\n",
              "</table>\n",
              "</div>"
            ],
            "text/plain": [
              "   CustomerID  AvgMonthlySpend\n",
              "0       18988               54\n",
              "1       29135              110\n",
              "2       12156               47\n",
              "3       13749               88\n",
              "4       27780               59"
            ]
          },
          "metadata": {
            "tags": []
          },
          "execution_count": 210
        }
      ]
    },
    {
      "cell_type": "code",
      "metadata": {
        "id": "MR8PGTi6XX32",
        "colab_type": "code",
        "colab": {}
      },
      "source": [
        "final_data.to_csv('gdrive/My Drive/Colab Notebooks/challenge3.5.csv')"
      ],
      "execution_count": 0,
      "outputs": []
    },
    {
      "cell_type": "code",
      "metadata": {
        "id": "UtxXNR_tXb0C",
        "colab_type": "code",
        "colab": {}
      },
      "source": [
        ""
      ],
      "execution_count": 0,
      "outputs": []
    }
  ]
}